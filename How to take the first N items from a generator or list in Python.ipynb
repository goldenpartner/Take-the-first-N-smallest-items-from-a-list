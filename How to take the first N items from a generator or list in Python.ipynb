{
 "cells": [
  {
   "cell_type": "markdown",
   "metadata": {},
   "source": [
    "# Take the first N smallest items from a list"
   ]
  },
  {
   "cell_type": "code",
   "execution_count": 1,
   "metadata": {},
   "outputs": [],
   "source": [
    "import random\n",
    "import time\n",
    "import numpy as np"
   ]
  },
  {
   "cell_type": "code",
   "execution_count": 2,
   "metadata": {},
   "outputs": [],
   "source": [
    "total_number = 100000\n",
    "n = 100"
   ]
  },
  {
   "cell_type": "markdown",
   "metadata": {},
   "source": [
    "### Quick Insertion\n",
    "\n",
    "#### This method first uses quick sort to sort the first n elements in a given array and then save the sorted part.\n",
    "#### Then for the rest elements, if it is less than the largest element in the sorted part, \n",
    "#### it will be inserted into the sorted part and the the last element of sorted part is dumped.\n",
    "\n",
    "#### Comparing to numpy's sort method, this new method is faster than np's sort most of time."
   ]
  },
  {
   "cell_type": "code",
   "execution_count": 17,
   "metadata": {},
   "outputs": [],
   "source": [
    "def partition(arr, start, end):\n",
    "    pivot = arr[end]\n",
    "    i = start - 1\n",
    "    for j in range(start, end):\n",
    "        if arr[j] < pivot:\n",
    "            i += 1\n",
    "            arr[i], arr[j] = arr[j], arr[i]\n",
    "    arr[i+1], arr[end] = arr[end], arr[i+1]\n",
    "    return i+1"
   ]
  },
  {
   "cell_type": "code",
   "execution_count": 4,
   "metadata": {},
   "outputs": [],
   "source": [
    "def quickSort(arr, start, end):\n",
    "    if (start < end):\n",
    "        pi = partition(arr, start, end)\n",
    "        \n",
    "        quickSort(arr, start, pi-1)\n",
    "        quickSort(arr, pi+1, end)"
   ]
  },
  {
   "cell_type": "code",
   "execution_count": 5,
   "metadata": {},
   "outputs": [],
   "source": [
    "def insert_delete(arr, element):\n",
    "    \n",
    "    for i in range(len(arr)):\n",
    "        if element < arr[i]:\n",
    "            break\n",
    "    \n",
    "    arr.insert(i, element)\n",
    "    return arr[:-1]"
   ]
  },
  {
   "cell_type": "code",
   "execution_count": 6,
   "metadata": {},
   "outputs": [],
   "source": [
    "def quick_insertion(arr, start, end):\n",
    "    quickSort(arr, 0, n-1)\n",
    "    temp = arr[:n]\n",
    "    for i in range(n, end):\n",
    "        if arr[i] < temp[-1]:\n",
    "            temp = insert_delete(temp, arr[i])\n",
    "            #print(temp)\n",
    "    return temp"
   ]
  },
  {
   "cell_type": "code",
   "execution_count": 16,
   "metadata": {},
   "outputs": [
    {
     "name": "stdout",
     "output_type": "stream",
     "text": [
      "my method\t np quickSort\t difference\n",
      "0.0080\t\t  0.0080\t-0.0000\n",
      "0.0080\t\t  0.0090\t0.0010\n",
      "0.0080\t\t  0.0100\t0.0020\n",
      "0.0140\t\t  0.0090\t-0.0050\n",
      "0.0070\t\t  0.0090\t0.0020\n",
      "0.0080\t\t  0.0080\t0.0000\n",
      "0.0070\t\t  0.0090\t0.0020\n",
      "0.0080\t\t  0.0100\t0.0020\n",
      "0.0070\t\t  0.0090\t0.0020\n",
      "0.0070\t\t  0.0090\t0.0020\n",
      "0.0090\t\t  0.0100\t0.0010\n",
      "0.0070\t\t  0.0090\t0.0020\n",
      "0.0070\t\t  0.0090\t0.0020\n",
      "0.0090\t\t  0.0090\t0.0000\n",
      "0.0080\t\t  0.0100\t0.0020\n"
     ]
    }
   ],
   "source": [
    "print(\"my method\\t np quickSort\\t difference\")\n",
    "\n",
    "for i in range(15):\n",
    "    \n",
    "    lst1 = random.sample(range(1, total_number*100), total_number)\n",
    "    lst2 = lst1.copy()\n",
    "    \n",
    "    start1 = time.time()\n",
    "    result1 = quick_insertion(lst1, 0, total_number)\n",
    "    \n",
    "    start2 = time.time()\n",
    "    result2 = np.sort(lst2, kind=\"quickSort\")[:n]\n",
    "    \n",
    "    end = time.time()\n",
    "    if(result1 != result2).any():\n",
    "        print(\"ERROR\")\n",
    "        break\n",
    "    time1 = start2-start1\n",
    "    time2 = end-start2\n",
    "    diff = time2-time1\n",
    "    print(\"%.4f\\t\\t  %.4f\\t%.4f\"%(time1, time2, diff))"
   ]
  },
  {
   "cell_type": "code",
   "execution_count": null,
   "metadata": {},
   "outputs": [],
   "source": [
    "\n"
   ]
  },
  {
   "cell_type": "code",
   "execution_count": null,
   "metadata": {},
   "outputs": [],
   "source": []
  }
 ],
 "metadata": {
  "kernelspec": {
   "display_name": "Python 3",
   "language": "python",
   "name": "python3"
  },
  "language_info": {
   "codemirror_mode": {
    "name": "ipython",
    "version": 3
   },
   "file_extension": ".py",
   "mimetype": "text/x-python",
   "name": "python",
   "nbconvert_exporter": "python",
   "pygments_lexer": "ipython3",
   "version": "3.7.0"
  }
 },
 "nbformat": 4,
 "nbformat_minor": 2
}
